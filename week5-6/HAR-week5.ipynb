{
 "cells": [
  {
   "cell_type": "code",
   "execution_count": null,
   "metadata": {},
   "outputs": [],
   "source": []
  },
  {
   "cell_type": "code",
   "execution_count": null,
   "metadata": {},
   "outputs": [],
   "source": []
  },
  {
   "cell_type": "markdown",
   "metadata": {},
   "source": [
    "\n",
    "## Code Section 1 - Data Loading\n",
    "## Pandas"
   ]
  },
  {
   "cell_type": "code",
   "execution_count": 71,
   "metadata": {},
   "outputs": [],
   "source": [
    "#Code Block 1.1\n",
    "# import packages\n",
    "import numpy as np\n",
    "import pandas as pd\n",
    "import math"
   ]
  },
  {
   "cell_type": "code",
   "execution_count": 72,
   "metadata": {},
   "outputs": [
    {
     "name": "stdout",
     "output_type": "stream",
     "text": [
      "The dataset contains 245576 rows.\n"
     ]
    },
    {
     "data": {
      "text/html": [
       "<div>\n",
       "<style scoped>\n",
       "    .dataframe tbody tr th:only-of-type {\n",
       "        vertical-align: middle;\n",
       "    }\n",
       "\n",
       "    .dataframe tbody tr th {\n",
       "        vertical-align: top;\n",
       "    }\n",
       "\n",
       "    .dataframe thead th {\n",
       "        text-align: right;\n",
       "    }\n",
       "</style>\n",
       "<table border=\"1\" class=\"dataframe\">\n",
       "  <thead>\n",
       "    <tr style=\"text-align: right;\">\n",
       "      <th></th>\n",
       "      <th>0</th>\n",
       "      <th>1</th>\n",
       "      <th>2</th>\n",
       "      <th>3</th>\n",
       "      <th>4</th>\n",
       "      <th>5</th>\n",
       "      <th>6</th>\n",
       "      <th>7</th>\n",
       "      <th>8</th>\n",
       "      <th>9</th>\n",
       "      <th>...</th>\n",
       "      <th>15</th>\n",
       "      <th>16</th>\n",
       "      <th>17</th>\n",
       "      <th>18</th>\n",
       "      <th>19</th>\n",
       "      <th>20</th>\n",
       "      <th>21</th>\n",
       "      <th>22</th>\n",
       "      <th>23</th>\n",
       "      <th>24</th>\n",
       "    </tr>\n",
       "  </thead>\n",
       "  <tbody>\n",
       "    <tr>\n",
       "      <th>0</th>\n",
       "      <td>0.092478</td>\n",
       "      <td>0.14400</td>\n",
       "      <td>-0.009739</td>\n",
       "      <td>231.24</td>\n",
       "      <td>42.410</td>\n",
       "      <td>181.19</td>\n",
       "      <td>-0.13840</td>\n",
       "      <td>-0.85828</td>\n",
       "      <td>0.101680</td>\n",
       "      <td>32.813</td>\n",
       "      <td>...</td>\n",
       "      <td>-6.607700</td>\n",
       "      <td>-15.092</td>\n",
       "      <td>38.214</td>\n",
       "      <td>-0.90671</td>\n",
       "      <td>-0.43698</td>\n",
       "      <td>-0.52616</td>\n",
       "      <td>-91.394</td>\n",
       "      <td>33.158</td>\n",
       "      <td>4.2875</td>\n",
       "      <td>1</td>\n",
       "    </tr>\n",
       "    <tr>\n",
       "      <th>1</th>\n",
       "      <td>0.057310</td>\n",
       "      <td>0.16003</td>\n",
       "      <td>-0.009739</td>\n",
       "      <td>238.56</td>\n",
       "      <td>51.564</td>\n",
       "      <td>174.59</td>\n",
       "      <td>-0.15410</td>\n",
       "      <td>-0.86636</td>\n",
       "      <td>0.069517</td>\n",
       "      <td>46.727</td>\n",
       "      <td>...</td>\n",
       "      <td>-5.143100</td>\n",
       "      <td>-18.021</td>\n",
       "      <td>37.482</td>\n",
       "      <td>-0.94272</td>\n",
       "      <td>-0.32132</td>\n",
       "      <td>-0.49881</td>\n",
       "      <td>-82.606</td>\n",
       "      <td>36.087</td>\n",
       "      <td>-1.5711</td>\n",
       "      <td>1</td>\n",
       "    </tr>\n",
       "    <tr>\n",
       "      <th>2</th>\n",
       "      <td>0.022143</td>\n",
       "      <td>0.18408</td>\n",
       "      <td>-0.038329</td>\n",
       "      <td>243.69</td>\n",
       "      <td>59.620</td>\n",
       "      <td>166.17</td>\n",
       "      <td>-0.15410</td>\n",
       "      <td>-0.89867</td>\n",
       "      <td>0.053434</td>\n",
       "      <td>57.346</td>\n",
       "      <td>...</td>\n",
       "      <td>-3.678400</td>\n",
       "      <td>-20.584</td>\n",
       "      <td>37.116</td>\n",
       "      <td>-0.92271</td>\n",
       "      <td>-0.21722</td>\n",
       "      <td>-0.46756</td>\n",
       "      <td>-75.283</td>\n",
       "      <td>37.552</td>\n",
       "      <td>-5.9651</td>\n",
       "      <td>1</td>\n",
       "    </tr>\n",
       "    <tr>\n",
       "      <th>3</th>\n",
       "      <td>-0.001302</td>\n",
       "      <td>0.20412</td>\n",
       "      <td>-0.030160</td>\n",
       "      <td>246.62</td>\n",
       "      <td>65.112</td>\n",
       "      <td>156.29</td>\n",
       "      <td>-0.16981</td>\n",
       "      <td>-0.90675</td>\n",
       "      <td>0.049414</td>\n",
       "      <td>65.768</td>\n",
       "      <td>...</td>\n",
       "      <td>-0.749080</td>\n",
       "      <td>-23.514</td>\n",
       "      <td>35.285</td>\n",
       "      <td>-0.89070</td>\n",
       "      <td>-0.13626</td>\n",
       "      <td>-0.45193</td>\n",
       "      <td>-69.424</td>\n",
       "      <td>37.552</td>\n",
       "      <td>-8.8945</td>\n",
       "      <td>1</td>\n",
       "    </tr>\n",
       "    <tr>\n",
       "      <th>4</th>\n",
       "      <td>-0.032562</td>\n",
       "      <td>0.20813</td>\n",
       "      <td>-0.026076</td>\n",
       "      <td>250.64</td>\n",
       "      <td>70.605</td>\n",
       "      <td>145.30</td>\n",
       "      <td>-0.16981</td>\n",
       "      <td>-0.90675</td>\n",
       "      <td>0.081579</td>\n",
       "      <td>69.063</td>\n",
       "      <td>...</td>\n",
       "      <td>-0.016749</td>\n",
       "      <td>-24.246</td>\n",
       "      <td>33.088</td>\n",
       "      <td>-0.89870</td>\n",
       "      <td>-0.10927</td>\n",
       "      <td>-0.48709</td>\n",
       "      <td>-63.566</td>\n",
       "      <td>39.017</td>\n",
       "      <td>-10.3590</td>\n",
       "      <td>1</td>\n",
       "    </tr>\n",
       "  </tbody>\n",
       "</table>\n",
       "<p>5 rows × 25 columns</p>\n",
       "</div>"
      ],
      "text/plain": [
       "         0        1         2       3       4       5        6        7   \\\n",
       "0  0.092478  0.14400 -0.009739  231.24  42.410  181.19 -0.13840 -0.85828   \n",
       "1  0.057310  0.16003 -0.009739  238.56  51.564  174.59 -0.15410 -0.86636   \n",
       "2  0.022143  0.18408 -0.038329  243.69  59.620  166.17 -0.15410 -0.89867   \n",
       "3 -0.001302  0.20412 -0.030160  246.62  65.112  156.29 -0.16981 -0.90675   \n",
       "4 -0.032562  0.20813 -0.026076  250.64  70.605  145.30 -0.16981 -0.90675   \n",
       "\n",
       "         8       9   ...        15      16      17       18       19       20  \\\n",
       "0  0.101680  32.813  ... -6.607700 -15.092  38.214 -0.90671 -0.43698 -0.52616   \n",
       "1  0.069517  46.727  ... -5.143100 -18.021  37.482 -0.94272 -0.32132 -0.49881   \n",
       "2  0.053434  57.346  ... -3.678400 -20.584  37.116 -0.92271 -0.21722 -0.46756   \n",
       "3  0.049414  65.768  ... -0.749080 -23.514  35.285 -0.89070 -0.13626 -0.45193   \n",
       "4  0.081579  69.063  ... -0.016749 -24.246  33.088 -0.89870 -0.10927 -0.48709   \n",
       "\n",
       "       21      22       23  24  \n",
       "0 -91.394  33.158   4.2875   1  \n",
       "1 -82.606  36.087  -1.5711   1  \n",
       "2 -75.283  37.552  -5.9651   1  \n",
       "3 -69.424  37.552  -8.8945   1  \n",
       "4 -63.566  39.017 -10.3590   1  \n",
       "\n",
       "[5 rows x 25 columns]"
      ]
     },
     "execution_count": 72,
     "metadata": {},
     "output_type": "execute_result"
    }
   ],
   "source": [
    "#Code Block 1.2\n",
    "df = pd.read_csv('dataset_1.txt', sep=',', header=None)  # use pandas to read csv file\n",
    "print('The dataset contains %d rows.' % len(df));\n",
    "df.head() # show first 5 rows of the dataset"
   ]
  },
  {
   "cell_type": "code",
   "execution_count": 73,
   "metadata": {},
   "outputs": [],
   "source": [
    "#Code Block 1.3\n",
    "def loadDataFromSensorFiles(list_of_filenames):\n",
    "\n",
    "    \n",
    "    for dataset_file in list_of_filenames:\n",
    "\n",
    "        #import the file contents into a panadas data frame\n",
    "        imported_data = pd.read_csv(dataset_file, sep=',', header=None)\n",
    "\n",
    "        #look for number of records in each activitiy\n",
    "        for activityNumber in range(1,14):\n",
    "            \n",
    "            #get all data relating to that activity and convert to a numpy ndarray\n",
    "            activity_data = imported_data[imported_data[24] == activityNumber].values\n",
    "\n",
    "            \n",
    "            number_of_activity_samples = int( len(activity_data) )\n",
    "            print(  \"File \" + dataset_file +\n",
    "                    \" has \" + str(number_of_activity_samples) + \" samples \"+\n",
    "                    \"for activity: \" + str(activityNumber))\n",
    "            \n"
   ]
  },
  {
   "cell_type": "code",
   "execution_count": 74,
   "metadata": {},
   "outputs": [
    {
     "name": "stdout",
     "output_type": "stream",
     "text": [
      "File dataset_1.txt has 12290 samples for activity: 1\n",
      "File dataset_1.txt has 12289 samples for activity: 2\n",
      "File dataset_1.txt has 12289 samples for activity: 3\n",
      "File dataset_1.txt has 24578 samples for activity: 4\n",
      "File dataset_1.txt has 12289 samples for activity: 5\n",
      "File dataset_1.txt has 18433 samples for activity: 6\n",
      "File dataset_1.txt has 52021 samples for activity: 7\n",
      "File dataset_1.txt has 6964 samples for activity: 8\n",
      "File dataset_1.txt has 6965 samples for activity: 9\n",
      "File dataset_1.txt has 25397 samples for activity: 10\n",
      "File dataset_1.txt has 24577 samples for activity: 11\n",
      "File dataset_1.txt has 24577 samples for activity: 12\n",
      "File dataset_1.txt has 12907 samples for activity: 13\n",
      "File dataset_3.txt has 12084 samples for activity: 1\n",
      "File dataset_3.txt has 12289 samples for activity: 2\n",
      "File dataset_3.txt has 12290 samples for activity: 3\n",
      "File dataset_3.txt has 24577 samples for activity: 4\n",
      "File dataset_3.txt has 12289 samples for activity: 5\n",
      "File dataset_3.txt has 15566 samples for activity: 6\n",
      "File dataset_3.txt has 55708 samples for activity: 7\n",
      "File dataset_3.txt has 9831 samples for activity: 8\n",
      "File dataset_3.txt has 7169 samples for activity: 9\n",
      "File dataset_3.txt has 24577 samples for activity: 10\n",
      "File dataset_3.txt has 24987 samples for activity: 11\n",
      "File dataset_3.txt has 24987 samples for activity: 12\n",
      "File dataset_3.txt has 9631 samples for activity: 13\n"
     ]
    }
   ],
   "source": [
    "#Code Block 1.4\n",
    "sample_fileName = []\n",
    "sample_fileName.append ('dataset_1.txt')\n",
    "sample_fileName.append ('dataset_3.txt')\n",
    "loadDataFromSensorFiles (sample_fileName)"
   ]
  },
  {
   "cell_type": "code",
   "execution_count": 75,
   "metadata": {},
   "outputs": [],
   "source": [
    "#Challenge:\n",
    "\n",
    "\n",
    "#Question 1\n",
    "#\n",
    "#What is the meaning of each column in the output from executing code block 1.2?\n",
    "# There're a total of 4 sensor group locations: Wrist, Chest, Hip and Ankle. \n",
    "# Each sensor group has got 2 types of sensors: Accelerometer and Gyroscope. \n",
    "# The Accelerometer measuring linear acceleration is in 3 axes and the Gyroscope measuring angular rotation is also in 3 axes.\n",
    "# The last number (25th) states what activity the data is related to. \n",
    "# Reference: Week 4 Lecture slide Page 44\n",
    "\n",
    "\n",
    "#Question 2\n",
    "#\n",
    "#What is the meaning of each output from executing code block 1.4?\n",
    "#\n",
    "\n",
    "#Question 3\n",
    "#\n",
    "#What is the activity name for activity with index 10?\n",
    "#\n"
   ]
  },
  {
   "cell_type": "markdown",
   "metadata": {},
   "source": [
    "\n",
    "## Code Section 2- Signal Processing\n",
    "## Matplotlib"
   ]
  },
  {
   "cell_type": "code",
   "execution_count": 76,
   "metadata": {},
   "outputs": [],
   "source": [
    "#code block 2.1\n",
    "import matplotlib.pyplot as plt"
   ]
  },
  {
   "cell_type": "markdown",
   "metadata": {},
   "source": [
    "By running this special iPython command, we will be displaying plots inline:"
   ]
  },
  {
   "cell_type": "code",
   "execution_count": 77,
   "metadata": {},
   "outputs": [
    {
     "data": {
      "text/plain": [
       "[<matplotlib.lines.Line2D at 0x16c9392c190>,\n",
       " <matplotlib.lines.Line2D at 0x16c9392c9d0>,\n",
       " <matplotlib.lines.Line2D at 0x16c93936970>]"
      ]
     },
     "execution_count": 77,
     "metadata": {},
     "output_type": "execute_result"
    },
    {
     "data": {
      "image/png": "[encoded data removed]",
      "text/plain": [
       "<Figure size 432x288 with 1 Axes>"
      ]
     },
     "metadata": {
      "needs_background": "light"
     },
     "output_type": "display_data"
    }
   ],
   "source": [
    "#code block 2.2\n",
    "%matplotlib inline\n",
    "df_sitting = df[df[24] == 1].values \n",
    "plt.plot(df_sitting[500:1500, 0:3]) # We could plot muliple lines in the same plot\n",
    "\n"
   ]
  },
  {
   "cell_type": "markdown",
   "metadata": {},
   "source": [
    "For raw sensor data, it usually contains noise that arises from different sources, such as sensor mis\n",
    "calibration, sensor errors, errors in sensor placement, or noisy environments. We could apply filter to remove noise of sensor data\n",
    "to smooth data."
   ]
  },
  {
   "cell_type": "code",
   "execution_count": 78,
   "metadata": {},
   "outputs": [
    {
     "data": {
      "text/plain": [
       "[<matplotlib.lines.Line2D at 0x16c93a616d0>,\n",
       " <matplotlib.lines.Line2D at 0x16c93a61700>,\n",
       " <matplotlib.lines.Line2D at 0x16c93a61820>]"
      ]
     },
     "execution_count": 78,
     "metadata": {},
     "output_type": "execute_result"
    },
    {
     "data": {
      "image/png": "[encoded data removed]",
      "text/plain": [
       "<Figure size 432x288 with 1 Axes>"
      ]
     },
     "metadata": {
      "needs_background": "light"
     },
     "output_type": "display_data"
    }
   ],
   "source": [
    "#code block 2.3\n",
    "from scipy import signal\n",
    "\n",
    "b, a = signal.butter(4, 0.04, 'lowpass', analog=False)\n",
    "for i in range(3):\n",
    "    df_sitting[:,i] = signal.lfilter(b, a, df_sitting[:, i])\n",
    "plt.plot(df_sitting[500:1500, 0:3])\n"
   ]
  },
  {
   "cell_type": "code",
   "execution_count": 79,
   "metadata": {},
   "outputs": [],
   "source": [
    "#Code Block 2.4\n",
    "def loadDataFromSensorFilesWithDataCleaning(list_of_filenames):\n",
    "\n",
    "    \n",
    "    for dataset_file in list_of_filenames:\n",
    "\n",
    "        #import the file contents into a panadas data frame\n",
    "        imported_data = pd.read_csv(dataset_file, sep=',', header=None)\n",
    "\n",
    "        #look for number of records in each activitiy\n",
    "        for activityNumber in range(1,14):\n",
    "            \n",
    "            #get all data relating to that activity and convert to a numpy ndarray\n",
    "            activity_data = imported_data[imported_data[24] == activityNumber].values\n",
    "            \n",
    "            #print out some raw sensor data for activity with index 10 \n",
    "            if activityNumber == 10:\n",
    "                plt.figure(0)\n",
    "                plt.plot(activity_data[500:1500, 3:6]) # We could plot muliple lines in the same plot\n",
    "\n",
    "            #smooth over the data for columns 0, 1, 2, ...23 (not column 24)\n",
    "            b, a = signal.butter(4, 0.04, 'low', analog=False)\n",
    "            for j in range(24):\n",
    "                activity_data[:, j] = signal.lfilter(b, a, activity_data[:, j])\n",
    "            \n",
    "            #print out some noise filtered sensor data for activity with index 10\n",
    "            if activityNumber == 10:   \n",
    "                plt.figure(1)\n",
    "                plt.plot(activity_data[500:1500, 3:6]) # We could plot muliple lines in the same plot    \n",
    "            \n",
    "            \n",
    "            \n",
    "            \n"
   ]
  },
  {
   "cell_type": "code",
   "execution_count": 80,
   "metadata": {},
   "outputs": [
    {
     "data": {
      "image/png": "[encoded data removed]",
      "text/plain": [
       "<Figure size 432x288 with 1 Axes>"
      ]
     },
     "metadata": {
      "needs_background": "light"
     },
     "output_type": "display_data"
    },
    {
     "data": {
      "image/png": "[encoded data removed]",
      "text/plain": [
       "<Figure size 432x288 with 1 Axes>"
      ]
     },
     "metadata": {
      "needs_background": "light"
     },
     "output_type": "display_data"
    }
   ],
   "source": [
    "#Code Block 2.5\n",
    "sample_fileName = []\n",
    "sample_fileName.append ('dataset_1.txt')\n",
    "loadDataFromSensorFilesWithDataCleaning (sample_fileName)"
   ]
  },
  {
   "cell_type": "code",
   "execution_count": 81,
   "metadata": {},
   "outputs": [],
   "source": [
    "#Challenge:\n",
    "\n",
    "\n",
    "#Question 1\n",
    "#\n",
    "#What are the output from executing code block 2.2? (Hint: think of the activity, the sensor and number of sensor \n",
    "#records used)?\n",
    "# It's plotting the Accelerometer readouts from record 500 to 1500 wherever the record is tagged as Activity 1 (Sitting). \n",
    "\n",
    "\n",
    "#Question 2\n",
    "#\n",
    "#What is the meaning of each output from executing code block 2.3 (Hint: think of the difference from the output \n",
    "#executing code block 2.2)?\n",
    "# \n",
    "\n",
    "\n",
    "#Question 3\n",
    "#\n",
    "#What are the outputs from executing code block 2.5? (Hint:think of the activity, the sensor and number of sensor \n",
    "#records used, and the difference from two plots output)\n",
    "#\n"
   ]
  },
  {
   "cell_type": "markdown",
   "metadata": {},
   "source": [
    "## Code Section 3:  Feature Engineering\n",
    "## Numpy "
   ]
  },
  {
   "cell_type": "markdown",
   "metadata": {},
   "source": [
    "For time series data, we should convert the raw dataset to feature dataset, where each data sample contains features extracted from a period of time. For example, in the last cell we plot the period of time from 500 to 1500. Now we can consider it as a segmentation and extract statistic features from it. In this tutorial, we extract min value and max value of accelerometer data of wrist sensor as features. In data visualization we could find that for different activities the sensor signal data values are in different ranges. Therefore, we could think that we could recognize different activities by the range of data, which means minimum and maximum values of data may be useful features to recognize activities.     "
   ]
  },
  {
   "cell_type": "code",
   "execution_count": 82,
   "metadata": {},
   "outputs": [
    {
     "name": "stdout",
     "output_type": "stream",
     "text": [
      "[-0.22194265347765907, -0.19935836657775846, 0.940228356106631, 0.9548131625616393, 0.2432672903705879, 0.2607813895652679, 1]\n"
     ]
    }
   ],
   "source": [
    "#code block 3.1\n",
    "seg = df_sitting[500:1500, 0:]\n",
    "ax_min = np.min(seg[:, 0])\n",
    "ax_max = np.max(seg[:, 0])\n",
    "ay_min = np.min(seg[:, 1])\n",
    "ay_max = np.max(seg[:, 1])\n",
    "az_min = np.min(seg[:, 2])\n",
    "az_max = np.max(seg[:, 2])\n",
    "print([ax_min, ax_max, ay_min, ay_max, az_min, az_max, int(seg[0, 24])])"
   ]
  },
  {
   "cell_type": "markdown",
   "metadata": {},
   "source": [
    "for each accelerometer axis data of the first senosr in the period, we extract 2 statistic feature min and max value. Now the data segmentation for activity sitting is represented the (1 * 7) vector. The first six numbers are features and the last number is the label.  "
   ]
  },
  {
   "cell_type": "code",
   "execution_count": 83,
   "metadata": {},
   "outputs": [],
   "source": [
    "#Code Block 3.2\n",
    "def create_training_data_from_files(list_of_filenames, output_filename):\n",
    "\n",
    "    #create the empty training set where we are going to add our \"features\"\n",
    "    training_set = np.empty(shape=(0, 10))\n",
    "    \n",
    "    for dataset_file in list_of_filenames:\n",
    "\n",
    "        #import the file contents into a panadas data frame\n",
    "        imported_data = pd.read_csv(dataset_file, sep=',', header=None)\n",
    "\n",
    "        #generate \"features\" for each activitiy\n",
    "        for activityNumber in range(1,14):\n",
    "            \n",
    "            #get all data relating to that activity and convert to a numpy ndarray\n",
    "            activity_data = imported_data[imported_data[24] == activityNumber].values\n",
    "\n",
    "            #smooth over the data for columns 0, 1, 2, ...23 (not column 24)\n",
    "            b, a = signal.butter(4, 0.04, 'low', analog=False)\n",
    "            for j in range(24):\n",
    "                activity_data[:, j] = signal.lfilter(b, a, activity_data[:, j])\n",
    "            \n",
    "            #how many full rows of 1000 are there for this activity data?\n",
    "            number_of_training_windows = int( len(activity_data)/1000 )\n",
    "            print(  \"File \" + dataset_file +\n",
    "                    \" has \" + str(number_of_training_windows) + \" windows, each of which has 1000 rows \"+\n",
    "                    \"for activity: \" + str(activityNumber))\n",
    "            \n",
    "            #for each window of 1000 rows... scan the data and add the scan results to training_set\n",
    "            for window_number in range(number_of_training_windows):\n",
    "                #sample data (get the next 1000 rows and all the columns)\n",
    "                window_data = activity_data[ \n",
    "                                1000 * window_number : 1000 * (window_number + 1) , \n",
    "                                :\n",
    "                            ]\n",
    "                #we are about to build up a feature_sample that will have 10 columns\n",
    "                feature_window = []\n",
    "                #sample from file 4 in week 7 prac\n",
    "                for i in range(3):\n",
    "                    feature_window.append(np.min(window_data[:, i]))\n",
    "                    feature_window.append(np.max(window_data[:, i]))\n",
    "                    feature_window.append(np.mean(window_data[:, i]))\n",
    "                # add the activtiy number (The last column from the row of data)\n",
    "                feature_window.append(int(window_data[0, -1])) \n",
    "                #make it in to an ndarray so it can be added to training data\n",
    "                feature_window = np.array([feature_window]) \n",
    "                training_set = np.concatenate((training_set, feature_window), axis=0)\n",
    "            \n",
    "    #now save all this training data into a file to be used at a later date\n",
    "    df_training = pd.DataFrame(training_set)\n",
    "    df_training.to_csv(output_filename, index=None, header=None)\n",
    "    print('attempted to create training feature set data file:'+ output_filename +'. Please check if the file was created successfully in your local folder!')\n",
    "    print(str(len(training_set)) + \" data rows should be in the output training feature set file\")\n",
    "\n"
   ]
  },
  {
   "cell_type": "code",
   "execution_count": 84,
   "metadata": {},
   "outputs": [
    {
     "name": "stdout",
     "output_type": "stream",
     "text": [
      "File dataset_1.txt has 12 windows, each of which has 1000 rows for activity: 1\n",
      "File dataset_1.txt has 12 windows, each of which has 1000 rows for activity: 2\n",
      "File dataset_1.txt has 12 windows, each of which has 1000 rows for activity: 3\n",
      "File dataset_1.txt has 24 windows, each of which has 1000 rows for activity: 4\n",
      "File dataset_1.txt has 12 windows, each of which has 1000 rows for activity: 5\n",
      "File dataset_1.txt has 18 windows, each of which has 1000 rows for activity: 6\n",
      "File dataset_1.txt has 52 windows, each of which has 1000 rows for activity: 7\n",
      "File dataset_1.txt has 6 windows, each of which has 1000 rows for activity: 8\n",
      "File dataset_1.txt has 6 windows, each of which has 1000 rows for activity: 9\n",
      "File dataset_1.txt has 25 windows, each of which has 1000 rows for activity: 10\n",
      "File dataset_1.txt has 24 windows, each of which has 1000 rows for activity: 11\n",
      "File dataset_1.txt has 24 windows, each of which has 1000 rows for activity: 12\n",
      "File dataset_1.txt has 12 windows, each of which has 1000 rows for activity: 13\n",
      "File dataset_3.txt has 12 windows, each of which has 1000 rows for activity: 1\n",
      "File dataset_3.txt has 12 windows, each of which has 1000 rows for activity: 2\n",
      "File dataset_3.txt has 12 windows, each of which has 1000 rows for activity: 3\n",
      "File dataset_3.txt has 24 windows, each of which has 1000 rows for activity: 4\n",
      "File dataset_3.txt has 12 windows, each of which has 1000 rows for activity: 5\n",
      "File dataset_3.txt has 15 windows, each of which has 1000 rows for activity: 6\n",
      "File dataset_3.txt has 55 windows, each of which has 1000 rows for activity: 7\n",
      "File dataset_3.txt has 9 windows, each of which has 1000 rows for activity: 8\n",
      "File dataset_3.txt has 7 windows, each of which has 1000 rows for activity: 9\n",
      "File dataset_3.txt has 24 windows, each of which has 1000 rows for activity: 10\n",
      "File dataset_3.txt has 24 windows, each of which has 1000 rows for activity: 11\n",
      "File dataset_3.txt has 24 windows, each of which has 1000 rows for activity: 12\n",
      "File dataset_3.txt has 9 windows, each of which has 1000 rows for activity: 13\n",
      "attempted to create training feature set data file:featureset_1and3.csv. Please check if the file was created successfully in your local folder!\n",
      "478 data rows should be in the output training feature set file\n"
     ]
    }
   ],
   "source": [
    "#Code Block 3.3\n",
    "sample_fileName = []\n",
    "sample_fileName.append ('dataset_1.txt')\n",
    "sample_fileName.append ('dataset_3.txt')\n",
    "create_training_data_from_files (sample_fileName, 'featureset_1and3.csv')"
   ]
  },
  {
   "cell_type": "code",
   "execution_count": 85,
   "metadata": {},
   "outputs": [],
   "source": [
    "#Challenge:\n",
    "\n",
    "\n",
    "#Question 1\n",
    "#\n",
    "#What are the output from executing code block 3.1? (Hint: think of the activity and the sensor)\n",
    "#\n",
    "\n",
    "\n",
    "#Question 2\n",
    "#\n",
    "#After executing code block 3.3, there is a definition of window, what exactly is the window? (Hint: think from \n",
    "#feature engineering perspective, shall we retrieve one specific numeric feature, for instance max for the X axle \n",
    "#of the first gyroscope sensor in the dataset used for the HAR project? why yes? why not?)\n",
    "#\n",
    "\n",
    "#Question 3\n",
    "#\n",
    "#After executing code block 3.3, what patterns you can see from the output difference/similarity between dataset_1 \n",
    "#and dataset_3? (Hint: think from the number of windows for each activity)\n",
    "\n"
   ]
  },
  {
   "cell_type": "markdown",
   "metadata": {},
   "source": [
    "## Code Section 4 (Bonus Section):  Model Training and Inference\n",
    "## Numpy "
   ]
  },
  {
   "cell_type": "code",
   "execution_count": 86,
   "metadata": {},
   "outputs": [],
   "source": [
    "#Code Block 4.1\n",
    "import numpy as np \n",
    "import pandas as pd \n",
    "from scipy import signal\n",
    "import matplotlib.pyplot as plt \n",
    "import math\n",
    "from sklearn import preprocessing\n",
    "from sklearn.neighbors import KNeighborsClassifier\n",
    "from sklearn.metrics import make_scorer, accuracy_score, confusion_matrix\n",
    "from sklearn.svm import SVC\n",
    "from sklearn.model_selection import GridSearchCV"
   ]
  },
  {
   "cell_type": "code",
   "execution_count": 87,
   "metadata": {},
   "outputs": [],
   "source": [
    "#Code Block 4.2\n",
    "def create_testing_data_from_files(list_of_filenames, output_filename):\n",
    "\n",
    "    #create the empty training set where we are going to add our \"features\"\n",
    "    testing_set = np.empty(shape=(0, 10))\n",
    "    \n",
    "    for dataset_file in list_of_filenames:\n",
    "\n",
    "        #import the file contents into a panadas data frame\n",
    "        imported_data = pd.read_csv(dataset_file, sep=',', header=None)\n",
    "\n",
    "        #generate \"features\" for each activitiy\n",
    "        for activityNumber in range(1,14):\n",
    "            \n",
    "            #get all data relating to that activity and convert to a numpy ndarray\n",
    "            activity_data = imported_data[imported_data[24] == activityNumber].values\n",
    "\n",
    "            #smooth over the data for columns 0, 1, 2, ...23 (not column 24)\n",
    "            b, a = signal.butter(4, 0.04, 'low', analog=False)\n",
    "            for j in range(24):\n",
    "                activity_data[:, j] = signal.lfilter(b, a, activity_data[:, j])\n",
    "            \n",
    "            #how many full rows of 1000 are there for this activity data?\n",
    "            number_of_testing_windows = int( len(activity_data)/1000 )\n",
    "            print(  \"File \" + dataset_file +\n",
    "                    \" has \" + str(number_of_testing_windows) + \" windows, each of which has 1000 rows \"+\n",
    "                    \"for activity: \" + str(activityNumber))\n",
    "            \n",
    "            #for each window of 1000 rows... scan the data and add the scan results to training_set\n",
    "            for window_number in range(number_of_testing_windows):\n",
    "                #sample data (get the next 1000 rows and all the columns)\n",
    "                window_data = activity_data[ \n",
    "                                1000 * window_number : 1000 * (window_number + 1) , \n",
    "                                :\n",
    "                            ]\n",
    "                #we are about to build up a feature_sample that will have 10 columns\n",
    "                feature_window = []\n",
    "                #sample from file 4 in week 7 prac\n",
    "                for i in range(3):\n",
    "                    feature_window.append(np.min(window_data[:, i]))\n",
    "                    feature_window.append(np.max(window_data[:, i]))\n",
    "                    feature_window.append(np.mean(window_data[:, i]))\n",
    "                # add the activtiy number (The last column from the row of data)\n",
    "                feature_window.append(int(window_data[0, -1])) \n",
    "                #make it in to an ndarray so it can be added to training data\n",
    "                feature_window = np.array([feature_window]) \n",
    "                testing_set = np.concatenate((testing_set, feature_window), axis=0)\n",
    "            \n",
    "    #now save all this training data into a file to be used at a later date\n",
    "    df_testing = pd.DataFrame(testing_set)\n",
    "    df_testing.to_csv(output_filename, index=None, header=None)\n",
    "    print('attempted to create testing feature set data file:'+ output_filename +'. Please check if the file was created successfully in your local folder!')\n",
    "    print(str(len(testing_set)) + \" data rows should be in the output testing set file\")\n",
    "\n"
   ]
  },
  {
   "cell_type": "code",
   "execution_count": 88,
   "metadata": {},
   "outputs": [
    {
     "name": "stdout",
     "output_type": "stream",
     "text": [
      "File dataset_1.txt has 12 windows, each of which has 1000 rows for activity: 1\n",
      "File dataset_1.txt has 12 windows, each of which has 1000 rows for activity: 2\n",
      "File dataset_1.txt has 12 windows, each of which has 1000 rows for activity: 3\n",
      "File dataset_1.txt has 24 windows, each of which has 1000 rows for activity: 4\n",
      "File dataset_1.txt has 12 windows, each of which has 1000 rows for activity: 5\n",
      "File dataset_1.txt has 18 windows, each of which has 1000 rows for activity: 6\n",
      "File dataset_1.txt has 52 windows, each of which has 1000 rows for activity: 7\n",
      "File dataset_1.txt has 6 windows, each of which has 1000 rows for activity: 8\n",
      "File dataset_1.txt has 6 windows, each of which has 1000 rows for activity: 9\n",
      "File dataset_1.txt has 25 windows, each of which has 1000 rows for activity: 10\n",
      "File dataset_1.txt has 24 windows, each of which has 1000 rows for activity: 11\n",
      "File dataset_1.txt has 24 windows, each of which has 1000 rows for activity: 12\n",
      "File dataset_1.txt has 12 windows, each of which has 1000 rows for activity: 13\n",
      "File dataset_3.txt has 12 windows, each of which has 1000 rows for activity: 1\n",
      "File dataset_3.txt has 12 windows, each of which has 1000 rows for activity: 2\n",
      "File dataset_3.txt has 12 windows, each of which has 1000 rows for activity: 3\n",
      "File dataset_3.txt has 24 windows, each of which has 1000 rows for activity: 4\n",
      "File dataset_3.txt has 12 windows, each of which has 1000 rows for activity: 5\n",
      "File dataset_3.txt has 15 windows, each of which has 1000 rows for activity: 6\n",
      "File dataset_3.txt has 55 windows, each of which has 1000 rows for activity: 7\n",
      "File dataset_3.txt has 9 windows, each of which has 1000 rows for activity: 8\n",
      "File dataset_3.txt has 7 windows, each of which has 1000 rows for activity: 9\n",
      "File dataset_3.txt has 24 windows, each of which has 1000 rows for activity: 10\n",
      "File dataset_3.txt has 24 windows, each of which has 1000 rows for activity: 11\n",
      "File dataset_3.txt has 24 windows, each of which has 1000 rows for activity: 12\n",
      "File dataset_3.txt has 9 windows, each of which has 1000 rows for activity: 13\n",
      "attempted to create training feature set data file:week5_training_data_1Participant.csv. Please check if the file was created successfully in your local folder!\n",
      "478 data rows should be in the output training feature set file\n",
      "File dataset_1.txt has 12 windows, each of which has 1000 rows for activity: 1\n",
      "File dataset_1.txt has 12 windows, each of which has 1000 rows for activity: 2\n",
      "File dataset_1.txt has 12 windows, each of which has 1000 rows for activity: 3\n",
      "File dataset_1.txt has 24 windows, each of which has 1000 rows for activity: 4\n",
      "File dataset_1.txt has 12 windows, each of which has 1000 rows for activity: 5\n",
      "File dataset_1.txt has 18 windows, each of which has 1000 rows for activity: 6\n",
      "File dataset_1.txt has 52 windows, each of which has 1000 rows for activity: 7\n",
      "File dataset_1.txt has 6 windows, each of which has 1000 rows for activity: 8\n",
      "File dataset_1.txt has 6 windows, each of which has 1000 rows for activity: 9\n",
      "File dataset_1.txt has 25 windows, each of which has 1000 rows for activity: 10\n",
      "File dataset_1.txt has 24 windows, each of which has 1000 rows for activity: 11\n",
      "File dataset_1.txt has 24 windows, each of which has 1000 rows for activity: 12\n",
      "File dataset_1.txt has 12 windows, each of which has 1000 rows for activity: 13\n",
      "File dataset_3.txt has 12 windows, each of which has 1000 rows for activity: 1\n",
      "File dataset_3.txt has 12 windows, each of which has 1000 rows for activity: 2\n",
      "File dataset_3.txt has 12 windows, each of which has 1000 rows for activity: 3\n",
      "File dataset_3.txt has 24 windows, each of which has 1000 rows for activity: 4\n",
      "File dataset_3.txt has 12 windows, each of which has 1000 rows for activity: 5\n",
      "File dataset_3.txt has 15 windows, each of which has 1000 rows for activity: 6\n",
      "File dataset_3.txt has 55 windows, each of which has 1000 rows for activity: 7\n",
      "File dataset_3.txt has 9 windows, each of which has 1000 rows for activity: 8\n",
      "File dataset_3.txt has 7 windows, each of which has 1000 rows for activity: 9\n",
      "File dataset_3.txt has 24 windows, each of which has 1000 rows for activity: 10\n",
      "File dataset_3.txt has 24 windows, each of which has 1000 rows for activity: 11\n",
      "File dataset_3.txt has 24 windows, each of which has 1000 rows for activity: 12\n",
      "File dataset_3.txt has 9 windows, each of which has 1000 rows for activity: 13\n",
      "attempted to create testing feature set data file:week5_testing_data_1Participant.csv. Please check if the file was created successfully in your local folder!\n",
      "478 data rows should be in the output testing set file\n"
     ]
    }
   ],
   "source": [
    "#Code Block 4.3\n",
    "create_training_data_from_files (sample_fileName, 'week5_training_data_1Participant.csv')\n",
    "create_testing_data_from_files (sample_fileName, 'week5_testing_data_1Participant.csv')"
   ]
  },
  {
   "cell_type": "code",
   "execution_count": 89,
   "metadata": {},
   "outputs": [
    {
     "name": "stdout",
     "output_type": "stream",
     "text": [
      "Accuracy:  0.9205020920502092\n",
      "[[ 23   0   0   0   0   0   0   0   0   0   1   0   0]\n",
      " [  0  23   1   0   0   0   0   0   0   0   0   0   0]\n",
      " [  0   1  21   0   0   0   2   0   0   0   0   0   0]\n",
      " [  0   0   0  47   0   1   0   0   0   0   0   0   0]\n",
      " [  0   0   0   2  21   1   0   0   0   0   0   0   0]\n",
      " [  0   0   0   3   2  26   2   0   0   0   0   0   0]\n",
      " [  0   0   0   0   0   3 102   0   2   0   0   0   0]\n",
      " [  0   0   0   0   0   0   3  10   2   0   0   0   0]\n",
      " [  0   0   0   0   0   0   0   0  13   0   0   0   0]\n",
      " [  0   0   0   0   0   0   0   0   0  49   0   0   0]\n",
      " [  1   0   0   2   0   0   1   0   0   0  42   2   0]\n",
      " [  0   1   0   2   0   0   1   0   0   0   2  42   0]\n",
      " [  0   0   0   0   0   0   0   0   0   0   0   0  21]]\n"
     ]
    }
   ],
   "source": [
    "#Code Block 4.4\n",
    "df_training = pd.read_csv('week5_training_data_1Participant.csv', header=None)\n",
    "df_testing = pd.read_csv('week5_testing_data_1Participant.csv', header=None)\n",
    "\n",
    "label_train = df_training[9].values\n",
    "# Labels should start from 0 in sklearn\n",
    "label_train = label_train - 1\n",
    "df_training = df_training.drop([9], axis=1)\n",
    "data_train = df_training.values\n",
    "\n",
    "label_test = df_testing[9].values\n",
    "label_test = label_test - 1\n",
    "df_testing = df_testing.drop([9], axis=1)\n",
    "data_test = df_testing.values\n",
    "\n",
    "# Feature normalization for improving the performance of machine learning models. In this example code, \n",
    "# StandardScaler is used to scale original feature to be centered around zero. You could try other normalization methods.\n",
    "scaler = preprocessing.StandardScaler().fit(data_train)\n",
    "data_train = scaler.transform(data_train)\n",
    "data_test = scaler.transform(data_test)\n",
    "\n",
    "# Build KNN classifier, in this example code\n",
    "knn = KNeighborsClassifier(n_neighbors=3)\n",
    "knn.fit(data_test, label_train)\n",
    "\n",
    "# Evaluation. when we train a machine learning model on training set, we should evaluate its performance on testing set.\n",
    "# We could evaluate the model by different metrics. Firstly, we could calculate the classification accuracy. In this example\n",
    "# code, when n_neighbors is set to 4, the accuracy achieves 0.757.\n",
    "label_pred = knn.predict(data_test)\n",
    "print('Accuracy: ', accuracy_score(label_test, label_pred))\n",
    "# We could use confusion matrix to view the classification for each activity.\n",
    "print(confusion_matrix(label_test, label_pred))\n",
    "\n"
   ]
  },
  {
   "cell_type": "code",
   "execution_count": 90,
   "metadata": {},
   "outputs": [],
   "source": [
    "#Challenge:\n",
    "\n",
    "\n",
    "#Question 1\n",
    "#\n",
    "#After executing code block 4.3, do you notice there are two new files generated in your local folder?\n",
    "#what are the difference between these two files? (Hint: think from the lecture, what is the difference between \n",
    "#model training and model inference?)\n",
    "\n",
    "\n",
    "#Question 2\n",
    "#\n",
    "#After executing code block 4.4, you see an accurarcy value? What does the value mean? \n",
    "# (Hint: think from the very purpose of the IoT project creating the underlying dataset)\n",
    "\n",
    "\n",
    "#Question 3\n",
    "#\n",
    "#After executing code block 4.4, there is an matrix output. Why it takes a while to output? what are the columns \n",
    "#and what are the rows?  (Hint: think of a math function someone wrote in C/Java/Python which outputs a value, you don't know whether the math \n",
    "#function you wrote is correct? what would you need to make sure? What if there are multiple math functions?)\n"
   ]
  }
 ],
 "metadata": {
  "kernelspec": {
   "display_name": "Python 3 (ipykernel)",
   "language": "python",
   "name": "python3"
  },
  "language_info": {
   "codemirror_mode": {
    "name": "ipython",
    "version": 3
   },
   "file_extension": ".py",
   "mimetype": "text/x-python",
   "name": "python",
   "nbconvert_exporter": "python",
   "pygments_lexer": "ipython3",
   "version": "3.9.7"
  }
 },
 "nbformat": 4,
 "nbformat_minor": 2
}
